{
 "cells": [
  {
   "cell_type": "code",
   "execution_count": 42,
   "id": "fd864c3c",
   "metadata": {},
   "outputs": [],
   "source": [
    "from splinter import Browser\n",
    "from bs4 import BeautifulSoup\n",
    "from webdriver_manager.chrome import ChromeDriverManager\n",
    "\n",
    "executable_path = {'executable_path': ChromeDriverManager().install()}\n",
    "browser = Browser('chrome', **executable_path, headless=False)"
   ]
  },
  {
   "cell_type": "code",
   "execution_count": 43,
   "id": "099d0e8c",
   "metadata": {},
   "outputs": [],
   "source": [
    "url = \"https://redplanetscience.com/\"\n",
    "browser.visit(url)\n",
    "html = browser.html\n",
    "soup = BeautifulSoup(html, 'html.parser')"
   ]
  },
  {
   "cell_type": "code",
   "execution_count": 56,
   "id": "ece3ff60",
   "metadata": {},
   "outputs": [],
   "source": [
    "Article_list = []"
   ]
  },
  {
   "cell_type": "code",
   "execution_count": null,
   "id": "fcf2bec0",
   "metadata": {},
   "outputs": [],
   "source": []
  },
  {
   "cell_type": "code",
   "execution_count": 57,
   "id": "05e7ba5c",
   "metadata": {},
   "outputs": [],
   "source": [
    "def get_summary():\n",
    "    html = browser.html\n",
    "    soup = BeautifulSoup(html, 'html.parser')\n",
    "    title_body = soup.find_all('div', class_=\"col-md-8\")\n",
    "    \n",
    "    for query in title_body:\n",
    "        title = query.find(\"div\", class_=\"content_title\").text\n",
    "        body = query.find(\"div\", class_=\"article_teaser_body\").text\n",
    "        question_dict = {\n",
    "            \"Title\": title,\n",
    "            \"Body\": body\n",
    "        }\n",
    "        Article_list.append(question_dict)"
   ]
  },
  {
   "cell_type": "code",
   "execution_count": 58,
   "id": "e9d1b562",
   "metadata": {},
   "outputs": [
    {
     "data": {
      "text/plain": [
       "[{'Title': 'NASA to Reveal Name of Its Next Mars Rover',\n",
       "  'Body': \"After a months-long contest among students to name NASA's newest Mars rover, the agency will reveal the winning name — and the winning student — this Thursday. \"},\n",
       " {'Title': \"NASA's Perseverance Rover Will Carry First Spacesuit Materials to Mars\",\n",
       "  'Body': 'In a Q&A, spacesuit designer Amy Ross explains how five samples, including a piece of helmet visor, will be tested aboard the rover, which is targeting a July 30 launch. '},\n",
       " {'Title': \"3 Things We've Learned From NASA's Mars InSight \",\n",
       "  'Body': 'Scientists are finding new mysteries since the geophysics mission landed two years ago.'},\n",
       " {'Title': 'Naming a NASA Mars Rover Can Change Your Life',\n",
       "  'Body': 'Want to name the robotic scientist NASA is sending to Mars in 2020? The student who named Curiosity — the rover currently exploring Mars — will tell you this is an opportunity worth taking.'},\n",
       " {'Title': 'Independent Review Indicates NASA Prepared for Mars Sample Return Campaign',\n",
       "  'Body': 'NASA released an independent review report Tuesday indicating the agency is well positioned for its Mars Sample Return campaign to bring pristine samples from Mars to Earth for scientific study.'},\n",
       " {'Title': \"Mars InSight Lander to Push on Top of the 'Mole'\",\n",
       "  'Body': 'Engineers have a plan for pushing down on the heat probe, which has been stuck at the Martian surface for a year.'},\n",
       " {'Title': \"NASA Wins 4 Webbys, 4 People's Voice Awards\",\n",
       "  'Body': 'Winners include the JPL-managed \"Send Your Name to Mars\" campaign, NASA\\'s Global Climate Change website and Solar System Interactive.'},\n",
       " {'Title': \"NASA Engineers Checking InSight's Weather Sensors\",\n",
       "  'Body': 'An electronics issue is suspected to be preventing the sensors from sharing their data about Mars weather with the spacecraft.'},\n",
       " {'Title': \"NASA's Mars 2020 Rover Closer to Getting Its Name\",\n",
       "  'Body': \"155 students from across the U.S. have been chosen as semifinalists in NASA's essay contest to name the Mars 2020 rover, and see it launch from Cape Canaveral this July.\"},\n",
       " {'Title': \"Nine Finalists Chosen in NASA's Mars 2020 Rover Naming Contest\",\n",
       "  'Body': \"Nine finalists have been chosen in the essay contest for K-12 students across U.S. to name NASA's next Mars rover. Now you can help by voting for your favorite. \"},\n",
       " {'Title': \"InSight's 'Mole' Team Peers into the Pit\",\n",
       "  'Body': 'Efforts to save the heat probe continue.'},\n",
       " {'Title': \"NASA's MAVEN Explores Mars to Understand Radio Interference at Earth\",\n",
       "  'Body': 'NASA’s MAVEN spacecraft has discovered “layers” and “rifts” in the electrically charged part of the upper atmosphere of Mars.'},\n",
       " {'Title': 'MAVEN Maps Electric Currents around Mars that are Fundamental to Atmospheric Loss',\n",
       "  'Body': 'Five years after NASA’s MAVEN spacecraft entered into orbit around Mars, data from the mission has led to the creation of a map of electric current systems in the Martian atmosphere.'},\n",
       " {'Title': \"Robotic Toolkit Added to NASA's Mars 2020 Rover\",\n",
       "  'Body': \"The bit carousel, which lies at the heart of the rover's Sample Caching System, is now aboard NASA's newest rover. \"},\n",
       " {'Title': 'NASA Administrator Statement on Moon to Mars Initiative, FY 2021 Budget',\n",
       "  'Body': \"Jim Bridenstine addresses NASA's ambitious plans for the coming years, including Mars Sample Return.\"}]"
      ]
     },
     "execution_count": 58,
     "metadata": {},
     "output_type": "execute_result"
    }
   ],
   "source": [
    "get_summary()\n",
    "Article_list"
   ]
  },
  {
   "cell_type": "code",
   "execution_count": 52,
   "id": "6235d951",
   "metadata": {},
   "outputs": [
    {
     "data": {
      "text/plain": [
       "{'Title': 'NASA to Reveal Name of Its Next Mars Rover',\n",
       " 'Body': \"After a months-long contest among students to name NASA's newest Mars rover, the agency will reveal the winning name — and the winning student — this Thursday. \"}"
      ]
     },
     "execution_count": 52,
     "metadata": {},
     "output_type": "execute_result"
    }
   ],
   "source": [
    "Article_list[0]"
   ]
  },
  {
   "cell_type": "code",
   "execution_count": null,
   "id": "edd065f7",
   "metadata": {},
   "outputs": [],
   "source": []
  }
 ],
 "metadata": {
  "kernelspec": {
   "display_name": "Python 3 (ipykernel)",
   "language": "python",
   "name": "python3"
  },
  "language_info": {
   "codemirror_mode": {
    "name": "ipython",
    "version": 3
   },
   "file_extension": ".py",
   "mimetype": "text/x-python",
   "name": "python",
   "nbconvert_exporter": "python",
   "pygments_lexer": "ipython3",
   "version": "3.7.13"
  }
 },
 "nbformat": 4,
 "nbformat_minor": 5
}
